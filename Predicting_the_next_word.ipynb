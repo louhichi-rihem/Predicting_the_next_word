{
 "cells": [
  {
   "cell_type": "markdown",
   "id": "3621e126",
   "metadata": {},
   "source": [
    "Welcome to this assignment! During this week you saw how to create a model that will predict the next word in a text sequence, now you will implement such model and train it using a corpus of Shakespeare's sonnets, while also creating some helper functions to pre-process the data.\n",
    "\n",
    "Let's get started!"
   ]
  },
  {
   "cell_type": "code",
   "execution_count": 47,
   "id": "ea57372d",
   "metadata": {},
   "outputs": [],
   "source": [
    "import numpy as np \n",
    "import matplotlib.pyplot as plt\n",
    "from tensorflow.keras.models import Sequential\n",
    "from tensorflow.keras.utils import to_categorical \n",
    "from tensorflow.keras.preprocessing.text import Tokenizer\n",
    "from tensorflow.keras.preprocessing.sequence import pad_sequences\n",
    "from tensorflow.keras.layers import Embedding, LSTM, Dense, Bidirectional, Input"
   ]
  },
  {
   "cell_type": "code",
   "execution_count": 4,
   "id": "3a75b57b",
   "metadata": {},
   "outputs": [
    {
     "name": "stdout",
     "output_type": "stream",
     "text": [
      "Defaulting to user installation because normal site-packages is not writeable\n",
      "Requirement already satisfied: gdown in c:\\users\\hp\\appdata\\roaming\\python\\python39\\site-packages (5.2.0)\n",
      "Requirement already satisfied: pip in c:\\users\\hp\\appdata\\roaming\\python\\python39\\site-packages (23.3.2)\n",
      "Collecting pip\n",
      "  Using cached pip-24.2-py3-none-any.whl.metadata (3.6 kB)\n",
      "Requirement already satisfied: beautifulsoup4 in c:\\programdata\\anaconda3\\lib\\site-packages (from gdown) (4.11.1)\n",
      "Requirement already satisfied: filelock in c:\\programdata\\anaconda3\\lib\\site-packages (from gdown) (3.6.0)\n",
      "Requirement already satisfied: requests[socks] in c:\\users\\hp\\appdata\\roaming\\python\\python39\\site-packages (from gdown) (2.32.3)\n",
      "Requirement already satisfied: tqdm in c:\\programdata\\anaconda3\\lib\\site-packages (from gdown) (4.64.0)\n",
      "Requirement already satisfied: soupsieve>1.2 in c:\\programdata\\anaconda3\\lib\\site-packages (from beautifulsoup4->gdown) (2.3.1)\n",
      "Requirement already satisfied: charset-normalizer<4,>=2 in c:\\programdata\\anaconda3\\lib\\site-packages (from requests[socks]->gdown) (2.0.4)\n",
      "Requirement already satisfied: idna<4,>=2.5 in c:\\programdata\\anaconda3\\lib\\site-packages (from requests[socks]->gdown) (3.3)\n",
      "Requirement already satisfied: urllib3<3,>=1.21.1 in c:\\users\\hp\\appdata\\roaming\\python\\python39\\site-packages (from requests[socks]->gdown) (2.2.3)\n",
      "Requirement already satisfied: certifi>=2017.4.17 in c:\\programdata\\anaconda3\\lib\\site-packages (from requests[socks]->gdown) (2021.10.8)\n",
      "Requirement already satisfied: PySocks!=1.5.7,>=1.5.6 in c:\\programdata\\anaconda3\\lib\\site-packages (from requests[socks]->gdown) (1.7.1)\n",
      "Requirement already satisfied: colorama in c:\\programdata\\anaconda3\\lib\\site-packages (from tqdm->gdown) (0.4.4)\n",
      "Using cached pip-24.2-py3-none-any.whl (1.8 MB)\n",
      "Installing collected packages: pip\n",
      "  Attempting uninstall: pip\n",
      "    Found existing installation: pip 23.3.2\n",
      "    Uninstalling pip-23.3.2:\n",
      "      Successfully uninstalled pip-23.3.2\n",
      "Successfully installed pip-24.2\n"
     ]
    },
    {
     "name": "stderr",
     "output_type": "stream",
     "text": [
      "  WARNING: The scripts pip.exe, pip3.9.exe and pip3.exe are installed in 'C:\\Users\\HP\\AppData\\Roaming\\Python\\Python39\\Scripts' which is not on PATH.\n",
      "  Consider adding this directory to PATH or, if you prefer to suppress this warning, use --no-warn-script-location.\n"
     ]
    }
   ],
   "source": [
    "!C:/ProgramData/Anaconda3/python.exe -m pip install gdown --upgrade pip"
   ]
  },
  {
   "cell_type": "code",
   "execution_count": 7,
   "id": "c948e30c",
   "metadata": {},
   "outputs": [
    {
     "name": "stdout",
     "output_type": "stream",
     "text": [
      "Defaulting to user installation because normal site-packages is not writeable\n",
      "Requirement already satisfied: gdown in c:\\users\\hp\\appdata\\roaming\\python\\python39\\site-packages (5.2.0)\n",
      "Requirement already satisfied: beautifulsoup4 in c:\\programdata\\anaconda3\\lib\\site-packages (from gdown) (4.11.1)\n",
      "Requirement already satisfied: filelock in c:\\programdata\\anaconda3\\lib\\site-packages (from gdown) (3.6.0)\n",
      "Requirement already satisfied: requests[socks] in c:\\users\\hp\\appdata\\roaming\\python\\python39\\site-packages (from gdown) (2.32.3)\n",
      "Requirement already satisfied: tqdm in c:\\programdata\\anaconda3\\lib\\site-packages (from gdown) (4.64.0)\n",
      "Requirement already satisfied: soupsieve>1.2 in c:\\programdata\\anaconda3\\lib\\site-packages (from beautifulsoup4->gdown) (2.3.1)\n",
      "Requirement already satisfied: charset-normalizer<4,>=2 in c:\\programdata\\anaconda3\\lib\\site-packages (from requests[socks]->gdown) (2.0.4)\n",
      "Requirement already satisfied: idna<4,>=2.5 in c:\\programdata\\anaconda3\\lib\\site-packages (from requests[socks]->gdown) (3.3)\n",
      "Requirement already satisfied: urllib3<3,>=1.21.1 in c:\\users\\hp\\appdata\\roaming\\python\\python39\\site-packages (from requests[socks]->gdown) (2.2.3)\n",
      "Requirement already satisfied: certifi>=2017.4.17 in c:\\programdata\\anaconda3\\lib\\site-packages (from requests[socks]->gdown) (2021.10.8)\n",
      "Requirement already satisfied: PySocks!=1.5.7,>=1.5.6 in c:\\programdata\\anaconda3\\lib\\site-packages (from requests[socks]->gdown) (1.7.1)\n",
      "Requirement already satisfied: colorama in c:\\programdata\\anaconda3\\lib\\site-packages (from tqdm->gdown) (0.4.4)\n"
     ]
    }
   ],
   "source": [
    "!C:/ProgramData/Anaconda3/python.exe -m pip install gdown"
   ]
  },
  {
   "cell_type": "code",
   "execution_count": 8,
   "id": "26bf8f4a",
   "metadata": {},
   "outputs": [
    {
     "name": "stderr",
     "output_type": "stream",
     "text": [
      "Downloading...\n",
      "From: https://drive.google.com/uc?id=108jAePKK4R3BVYBbYJZ32JWUwxeMg20K\n",
      "To: C:\\Users\\HP\\OneDrive\\Bureau\\next_word\\sonnets.txt\n",
      "100%|██████████████████████████████████████████████████████████████████████████████| 93.6k/93.6k [00:00<00:00, 980kB/s]\n"
     ]
    },
    {
     "data": {
      "text/plain": [
       "'sonnets.txt'"
      ]
     },
     "execution_count": 8,
     "metadata": {},
     "output_type": "execute_result"
    }
   ],
   "source": [
    "import gdown\n",
    "file_id = '108jAePKK4R3BVYBbYJZ32JWUwxeMg20K'\n",
    "url = f'https://drive.google.com/uc?id={file_id}'\n",
    "gdown.download(url, output=None, quiet=False)"
   ]
  },
  {
   "cell_type": "code",
   "execution_count": 9,
   "id": "2f0dd791",
   "metadata": {},
   "outputs": [
    {
     "name": "stdout",
     "output_type": "stream",
     "text": [
      "There are 2159 lines of sonnets\n",
      "\n",
      "The first 5 lines look like this:\n",
      "\n",
      "from fairest creatures we desire increase,\n",
      "that thereby beauty's rose might never die,\n",
      "but as the riper should by time decease,\n",
      "his tender heir might bear his memory:\n",
      "but thou, contracted to thine own bright eyes,\n"
     ]
    }
   ],
   "source": [
    "# Define path for file with sonnets\n",
    "SONNETS_FILE = 'sonnets.txt'\n",
    "\n",
    "# Read the data\n",
    "with open('sonnets.txt') as f:\n",
    "    data = f.read()\n",
    "\n",
    "# Convert to lower case and save as a list\n",
    "corpus = data.lower().split(\"\\n\")\n",
    "\n",
    "print(f\"There are {len(corpus)} lines of sonnets\\n\")\n",
    "print(f\"The first 5 lines look like this:\\n\")\n",
    "for i in range(5):\n",
    "  print(corpus[i])"
   ]
  },
  {
   "cell_type": "markdown",
   "id": "ac253628",
   "metadata": {},
   "source": [
    "# Tokenizing the text"
   ]
  },
  {
   "cell_type": "markdown",
   "id": "c65dd5f7",
   "metadata": {},
   "source": [
    "Now fit the Tokenizer to the corpus and save the total number of words."
   ]
  },
  {
   "cell_type": "code",
   "execution_count": 13,
   "id": "529eac93",
   "metadata": {},
   "outputs": [
    {
     "name": "stdout",
     "output_type": "stream",
     "text": [
      "3211\n"
     ]
    }
   ],
   "source": [
    "tokenizer = Tokenizer()\n",
    "tokenizer.fit_on_texts(corpus)\n",
    "total_words = len(tokenizer.word_index) + 1\n",
    "print(total_words)"
   ]
  },
  {
   "cell_type": "markdown",
   "id": "d605d998",
   "metadata": {},
   "source": [
    "When converting the text into sequences you can use the texts_to_sequences method as you have done throughout this course.\n",
    "\n",
    "In the next graded function you will need to process this corpus one line at a time. Given this, it is important to keep in mind that the way you are feeding the data unto this method affects the result. Check the following example to make this clearer.\n",
    "\n",
    "Notice that you received the sequence wrapped inside a list so in order to get only the desired sequence you need to explicitly get the first item in the list like this:"
   ]
  },
  {
   "cell_type": "code",
   "execution_count": 22,
   "id": "7f184011",
   "metadata": {},
   "outputs": [
    {
     "data": {
      "text/plain": [
       "[[34, 417, 877, 166, 213, 517]]"
      ]
     },
     "execution_count": 22,
     "metadata": {},
     "output_type": "execute_result"
    }
   ],
   "source": [
    "tokenizer.texts_to_sequences([corpus[0]])"
   ]
  },
  {
   "cell_type": "markdown",
   "id": "c83d2cdd",
   "metadata": {},
   "source": [
    "# Generating n_grams"
   ]
  },
  {
   "cell_type": "markdown",
   "id": "c7b52685",
   "metadata": {},
   "source": [
    "Now complete the n_gram_seqs function below. This function receives the fitted tokenizer and the corpus (which is a list of strings) and should return a list containing the n_gram sequences for each line in the corpus:"
   ]
  },
  {
   "cell_type": "code",
   "execution_count": 25,
   "id": "81579155",
   "metadata": {},
   "outputs": [
    {
     "name": "stdout",
     "output_type": "stream",
     "text": [
      "n_gram sequences for first example look like this:\n",
      "\n"
     ]
    },
    {
     "data": {
      "text/plain": [
       "[[34, 417],\n",
       " [34, 417, 877],\n",
       " [34, 417, 877, 166],\n",
       " [34, 417, 877, 166, 213],\n",
       " [34, 417, 877, 166, 213, 517]]"
      ]
     },
     "execution_count": 25,
     "metadata": {},
     "output_type": "execute_result"
    }
   ],
   "source": [
    "# GRADED FUNCTION: n_gram_seqs\n",
    "def n_gram_seqs(corpus, tokenizer):\n",
    "    input_sequences = []\n",
    "    \n",
    "    ### START CODE HERE\n",
    "    for line in corpus:\n",
    "      token_list = tokenizer.texts_to_sequences([line])[0]\n",
    "\n",
    "      for i in range(1, len(token_list)):\n",
    "        n_gram_sequence = token_list[:i+1]\n",
    "\n",
    "        input_sequences.append(n_gram_sequence)\n",
    "    ### END CODE HERE\n",
    "    \n",
    "    return input_sequences\n",
    "# Test your function with one example\n",
    "first_example_sequence = n_gram_seqs([corpus[0]], tokenizer)\n",
    "\n",
    "print(\"n_gram sequences for first example look like this:\\n\")\n",
    "first_example_sequence"
   ]
  },
  {
   "cell_type": "code",
   "execution_count": 26,
   "id": "5fcad8c7",
   "metadata": {},
   "outputs": [
    {
     "name": "stdout",
     "output_type": "stream",
     "text": [
      "n_gram sequences for next 3 examples look like this:\n",
      "\n"
     ]
    },
    {
     "data": {
      "text/plain": [
       "[[8, 878],\n",
       " [8, 878, 134],\n",
       " [8, 878, 134, 351],\n",
       " [8, 878, 134, 351, 102],\n",
       " [8, 878, 134, 351, 102, 156],\n",
       " [8, 878, 134, 351, 102, 156, 199],\n",
       " [16, 22],\n",
       " [16, 22, 2],\n",
       " [16, 22, 2, 879],\n",
       " [16, 22, 2, 879, 61],\n",
       " [16, 22, 2, 879, 61, 30],\n",
       " [16, 22, 2, 879, 61, 30, 48],\n",
       " [16, 22, 2, 879, 61, 30, 48, 634],\n",
       " [25, 311],\n",
       " [25, 311, 635],\n",
       " [25, 311, 635, 102],\n",
       " [25, 311, 635, 102, 200],\n",
       " [25, 311, 635, 102, 200, 25],\n",
       " [25, 311, 635, 102, 200, 25, 278]]"
      ]
     },
     "execution_count": 26,
     "metadata": {},
     "output_type": "execute_result"
    }
   ],
   "source": [
    "next_3_examples_sequence = n_gram_seqs(corpus[1:4], tokenizer)\n",
    "\n",
    "print(\"n_gram sequences for next 3 examples look like this:\\n\")\n",
    "next_3_examples_sequence"
   ]
  },
  {
   "cell_type": "markdown",
   "id": "a1a1faf2",
   "metadata": {},
   "source": [
    "Apply the n_gram_seqs transformation to the whole corpus and save the maximum sequence length to use it later:"
   ]
  },
  {
   "cell_type": "code",
   "execution_count": 27,
   "id": "b2b3b991",
   "metadata": {},
   "outputs": [
    {
     "name": "stdout",
     "output_type": "stream",
     "text": [
      "n_grams of input_sequences have length: 15462\n",
      "maximum length of sequences is: 11\n"
     ]
    }
   ],
   "source": [
    "# Apply the n_gram_seqs transformation to the whole corpus\n",
    "input_sequences = n_gram_seqs(corpus, tokenizer)\n",
    "\n",
    "# Save max length \n",
    "max_sequence_len = max([len(x) for x in input_sequences])\n",
    "\n",
    "print(f\"n_grams of input_sequences have length: {len(input_sequences)}\")\n",
    "print(f\"maximum length of sequences is: {max_sequence_len}\")"
   ]
  },
  {
   "cell_type": "markdown",
   "id": "02d59aad",
   "metadata": {},
   "source": [
    "# Add padding to the sequences"
   ]
  },
  {
   "cell_type": "markdown",
   "id": "cf6c3f3d",
   "metadata": {},
   "source": [
    "Now code the pad_seqs function which will pad any given sequences to the desired maximum length. Notice that this function receives a list of sequences and should return a numpy array with the padded sequences:"
   ]
  },
  {
   "cell_type": "code",
   "execution_count": 29,
   "id": "3e0283a2",
   "metadata": {},
   "outputs": [],
   "source": [
    "# GRADED FUNCTION: pad_seqs\n",
    "def pad_seqs(input_sequences, maxlen):\n",
    "    \"\"\"\n",
    "    Pads tokenized sequences to the same length\n",
    "    \n",
    "    Args:\n",
    "        input_sequences (list of int): tokenized sequences to pad\n",
    "        maxlen (int): maximum length of the token sequences\n",
    "    \n",
    "    Returns:\n",
    "        padded_sequences (array of int): tokenized sequences padded to the same length\n",
    "    \"\"\"\n",
    "    \n",
    "    padded_sequences = pad_sequences(input_sequences, maxlen=maxlen, padding='pre')   \n",
    "    return padded_sequences"
   ]
  },
  {
   "cell_type": "code",
   "execution_count": 30,
   "id": "917ef626",
   "metadata": {},
   "outputs": [
    {
     "data": {
      "text/plain": [
       "array([[  0,   0,   0,  34, 417],\n",
       "       [  0,   0,  34, 417, 877],\n",
       "       [  0,  34, 417, 877, 166],\n",
       "       [ 34, 417, 877, 166, 213],\n",
       "       [417, 877, 166, 213, 517]])"
      ]
     },
     "execution_count": 30,
     "metadata": {},
     "output_type": "execute_result"
    }
   ],
   "source": [
    "first_padded_seq = pad_seqs(first_example_sequence, len(first_example_sequence))\n",
    "first_padded_seq"
   ]
  },
  {
   "cell_type": "code",
   "execution_count": 31,
   "id": "c13b7cc6",
   "metadata": {},
   "outputs": [
    {
     "data": {
      "text/plain": [
       "array([[  0,   0,   0,   0,   0,   0,   8, 878],\n",
       "       [  0,   0,   0,   0,   0,   8, 878, 134],\n",
       "       [  0,   0,   0,   0,   8, 878, 134, 351],\n",
       "       [  0,   0,   0,   8, 878, 134, 351, 102],\n",
       "       [  0,   0,   8, 878, 134, 351, 102, 156],\n",
       "       [  0,   8, 878, 134, 351, 102, 156, 199],\n",
       "       [  0,   0,   0,   0,   0,   0,  16,  22],\n",
       "       [  0,   0,   0,   0,   0,  16,  22,   2],\n",
       "       [  0,   0,   0,   0,  16,  22,   2, 879],\n",
       "       [  0,   0,   0,  16,  22,   2, 879,  61],\n",
       "       [  0,   0,  16,  22,   2, 879,  61,  30],\n",
       "       [  0,  16,  22,   2, 879,  61,  30,  48],\n",
       "       [ 16,  22,   2, 879,  61,  30,  48, 634],\n",
       "       [  0,   0,   0,   0,   0,   0,  25, 311],\n",
       "       [  0,   0,   0,   0,   0,  25, 311, 635],\n",
       "       [  0,   0,   0,   0,  25, 311, 635, 102],\n",
       "       [  0,   0,   0,  25, 311, 635, 102, 200],\n",
       "       [  0,   0,  25, 311, 635, 102, 200,  25],\n",
       "       [  0,  25, 311, 635, 102, 200,  25, 278]])"
      ]
     },
     "execution_count": 31,
     "metadata": {},
     "output_type": "execute_result"
    }
   ],
   "source": [
    "# Test your function with the n_grams_seq of the next 3 examples\n",
    "next_3_padded_seq = pad_seqs(next_3_examples_sequence, max([len(s) for s in next_3_examples_sequence]))\n",
    "next_3_padded_seq"
   ]
  },
  {
   "cell_type": "code",
   "execution_count": 32,
   "id": "a30f968a",
   "metadata": {},
   "outputs": [
    {
     "name": "stdout",
     "output_type": "stream",
     "text": [
      "padded corpus has shape: (15462, 11)\n"
     ]
    }
   ],
   "source": [
    "# Pad the whole corpus\n",
    "input_sequences = pad_seqs(input_sequences, max_sequence_len)\n",
    "\n",
    "print(f\"padded corpus has shape: {input_sequences.shape}\")"
   ]
  },
  {
   "cell_type": "markdown",
   "id": "0bcc7cf5",
   "metadata": {},
   "source": [
    "# Split the data into features and labels"
   ]
  },
  {
   "cell_type": "markdown",
   "id": "40cb17c7",
   "metadata": {},
   "source": [
    "Before feeding the data into the neural network you should split it into features and labels. In this case the features will be the padded n_gram sequences with the last word removed from them and the labels will be the removed word.\n",
    "\n",
    "Complete the features_and_labels function below. This function expects the padded n_gram sequences as input and should return a tuple containing the features and the one hot encoded labels.\n",
    "\n",
    "Notice that the function also receives the total of words in the corpus, this parameter will be very important when one hot enconding the labels since every word in the corpus will be a label at least once."
   ]
  },
  {
   "cell_type": "code",
   "execution_count": 39,
   "id": "c9606aa8",
   "metadata": {},
   "outputs": [],
   "source": [
    "def features_and_labels(input_sequences, total_words):\n",
    "        \"\"\"\n",
    "    Generates features and labels from n-grams\n",
    "    \n",
    "    Args:\n",
    "        input_sequences (list of int): sequences to split features and labels from\n",
    "        total_words (int): vocabulary size\n",
    "    \n",
    "    Returns:\n",
    "        features, one_hot_labels (array of int, array of int): arrays of features and one-hot encoded labels\n",
    "    \"\"\"\n",
    "        \n",
    "    features = input_sequences[:,:-1]\n",
    "    labels = input_sequences[:,-1]\n",
    "    one_hot_labels = to_categorical(labels, num_classes=total_words)\n",
    "    return features, one_hot_labels"
   ]
  },
  {
   "cell_type": "code",
   "execution_count": 40,
   "id": "47a7008d",
   "metadata": {},
   "outputs": [
    {
     "name": "stdout",
     "output_type": "stream",
     "text": [
      "labels have shape: (5, 3211)\n",
      "\n",
      "features look like this:\n",
      "\n"
     ]
    },
    {
     "data": {
      "text/plain": [
       "array([[  0,   0,   0,  34],\n",
       "       [  0,   0,  34, 417],\n",
       "       [  0,  34, 417, 877],\n",
       "       [ 34, 417, 877, 166],\n",
       "       [417, 877, 166, 213]])"
      ]
     },
     "execution_count": 40,
     "metadata": {},
     "output_type": "execute_result"
    }
   ],
   "source": [
    "# Test your function with the padded n_grams_seq of the first example\n",
    "first_features, first_labels = features_and_labels(first_padded_seq, total_words)\n",
    "\n",
    "print(f\"labels have shape: {first_labels.shape}\")\n",
    "print(\"\\nfeatures look like this:\\n\")\n",
    "first_features"
   ]
  },
  {
   "cell_type": "code",
   "execution_count": 68,
   "id": "3c881891",
   "metadata": {},
   "outputs": [
    {
     "name": "stdout",
     "output_type": "stream",
     "text": [
      "features have shape: (15462, 10)\n",
      "labels have shape: (15462, 3211)\n"
     ]
    }
   ],
   "source": [
    "# Split the whole corpus\n",
    "features, labels = features_and_labels(input_sequences, total_words)\n",
    "\n",
    "print(f\"features have shape: {features.shape}\")\n",
    "print(f\"labels have shape: {labels.shape}\")"
   ]
  },
  {
   "cell_type": "markdown",
   "id": "2e1d2edf",
   "metadata": {},
   "source": [
    "# Create the model"
   ]
  },
  {
   "cell_type": "markdown",
   "id": "2600d8da",
   "metadata": {},
   "source": [
    "Now you should define a model architecture capable of achieving an accuracy of at least 80%."
   ]
  },
  {
   "cell_type": "code",
   "execution_count": 82,
   "id": "bbf1f36e",
   "metadata": {},
   "outputs": [],
   "source": [
    "# GRADED FUNCTION: create_model\n",
    "import tensorflow as tf\n",
    "\n",
    "def create_model(total_words, max_sequence_len):\n",
    "        \"\"\"\n",
    "    Creates a text generator model\n",
    "    \n",
    "    Args:\n",
    "        total_words (int): size of the vocabulary for the Embedding layer input\n",
    "        max_sequence_len (int): length of the input sequences\n",
    "    \n",
    "    Returns:\n",
    "        model (tf.keras Model): the text generator model\n",
    "    \"\"\"\n",
    "        \n",
    "    inputs = Input(shape=(features.shape[1],))\n",
    "    x = Embedding(total_words, 100, input_length=max_sequence_len-1)(inputs)\n",
    "    x = Bidirectional(LSTM(100, return_sequences=True))(x)\n",
    "    x = Bidirectional(LSTM(200, return_sequences=False))(x)\n",
    "    x = Dense(total_words*6, activation='relu')(x)\n",
    "    outputs = Dense(total_words, activation='softmax')(x)\n",
    "\n",
    "    model = tf.keras.Model(inputs, outputs)\n",
    "\n",
    "    model.compile(loss='categorical_crossentropy',\n",
    "                  optimizer=tf.keras.optimizers.Adam(learning_rate=0.001),\n",
    "                  metrics=['accuracy'])\n",
    "    \n",
    "\n",
    "\n",
    "    return model\n"
   ]
  },
  {
   "cell_type": "code",
   "execution_count": 83,
   "id": "e263b44c",
   "metadata": {},
   "outputs": [
    {
     "name": "stdout",
     "output_type": "stream",
     "text": [
      "Model: \"model_5\"\n",
      "_________________________________________________________________\n",
      " Layer (type)                Output Shape              Param #   \n",
      "=================================================================\n",
      " input_7 (InputLayer)        [(None, 10)]              0         \n",
      "                                                                 \n",
      " embedding_5 (Embedding)     (None, 10, 100)           321100    \n",
      "                                                                 \n",
      " bidirectional_10 (Bidirect  (None, 10, 200)           160800    \n",
      " ional)                                                          \n",
      "                                                                 \n",
      " bidirectional_11 (Bidirect  (None, 400)               641600    \n",
      " ional)                                                          \n",
      "                                                                 \n",
      " dense_10 (Dense)            (None, 19266)             7725666   \n",
      "                                                                 \n",
      " dense_11 (Dense)            (None, 3211)              61866337  \n",
      "                                                                 \n",
      "=================================================================\n",
      "Total params: 70715503 (269.76 MB)\n",
      "Trainable params: 70715503 (269.76 MB)\n",
      "Non-trainable params: 0 (0.00 Byte)\n",
      "_________________________________________________________________\n"
     ]
    }
   ],
   "source": [
    "model = create_model(total_words, max_sequence_len)\n",
    "model.summary()"
   ]
  },
  {
   "cell_type": "code",
   "execution_count": 84,
   "id": "a2b557aa",
   "metadata": {},
   "outputs": [
    {
     "name": "stdout",
     "output_type": "stream",
     "text": [
      "Epoch 1/50\n",
      "484/484 [==============================] - ETA: 0s - loss: 6.7798 - accuracy: 0.0239\n",
      "Epoch 1: saving model to checkpoints_next_word_prediction\\model_checkpoint.h5\n",
      "484/484 [==============================] - 343s 695ms/step - loss: 6.7798 - accuracy: 0.0239\n",
      "Epoch 2/50\n",
      "484/484 [==============================] - ETA: 0s - loss: 6.3845 - accuracy: 0.0329\n",
      "Epoch 2: saving model to checkpoints_next_word_prediction\\model_checkpoint.h5\n",
      "484/484 [==============================] - 342s 706ms/step - loss: 6.3845 - accuracy: 0.0329\n",
      "Epoch 3/50\n",
      "484/484 [==============================] - ETA: 0s - loss: 6.1196 - accuracy: 0.0442\n",
      "Epoch 3: saving model to checkpoints_next_word_prediction\\model_checkpoint.h5\n",
      "484/484 [==============================] - 324s 669ms/step - loss: 6.1196 - accuracy: 0.0442\n",
      "Epoch 4/50\n",
      "484/484 [==============================] - ETA: 0s - loss: 5.7835 - accuracy: 0.0583\n",
      "Epoch 4: saving model to checkpoints_next_word_prediction\\model_checkpoint.h5\n",
      "484/484 [==============================] - 319s 658ms/step - loss: 5.7835 - accuracy: 0.0583\n",
      "Epoch 5/50\n",
      "484/484 [==============================] - ETA: 0s - loss: 5.3911 - accuracy: 0.0757\n",
      "Epoch 5: saving model to checkpoints_next_word_prediction\\model_checkpoint.h5\n",
      "484/484 [==============================] - 320s 661ms/step - loss: 5.3911 - accuracy: 0.0757\n",
      "Epoch 6/50\n",
      "484/484 [==============================] - ETA: 0s - loss: 4.9492 - accuracy: 0.0991\n",
      "Epoch 6: saving model to checkpoints_next_word_prediction\\model_checkpoint.h5\n",
      "484/484 [==============================] - 322s 665ms/step - loss: 4.9492 - accuracy: 0.0991\n",
      "Epoch 7/50\n",
      "484/484 [==============================] - ETA: 0s - loss: 4.4226 - accuracy: 0.1302\n",
      "Epoch 7: saving model to checkpoints_next_word_prediction\\model_checkpoint.h5\n",
      "484/484 [==============================] - 324s 669ms/step - loss: 4.4226 - accuracy: 0.1302\n",
      "Epoch 8/50\n",
      "484/484 [==============================] - ETA: 0s - loss: 3.7421 - accuracy: 0.1986\n",
      "Epoch 8: saving model to checkpoints_next_word_prediction\\model_checkpoint.h5\n",
      "484/484 [==============================] - 320s 661ms/step - loss: 3.7421 - accuracy: 0.1986\n",
      "Epoch 9/50\n",
      "484/484 [==============================] - ETA: 0s - loss: 2.9645 - accuracy: 0.3196\n",
      "Epoch 9: saving model to checkpoints_next_word_prediction\\model_checkpoint.h5\n",
      "484/484 [==============================] - 319s 660ms/step - loss: 2.9645 - accuracy: 0.3196\n",
      "Epoch 10/50\n",
      "484/484 [==============================] - ETA: 0s - loss: 2.2135 - accuracy: 0.4701\n",
      "Epoch 10: saving model to checkpoints_next_word_prediction\\model_checkpoint.h5\n",
      "484/484 [==============================] - 330s 683ms/step - loss: 2.2135 - accuracy: 0.4701\n",
      "Epoch 11/50\n",
      "484/484 [==============================] - ETA: 0s - loss: 1.6587 - accuracy: 0.5858\n",
      "Epoch 11: saving model to checkpoints_next_word_prediction\\model_checkpoint.h5\n",
      "484/484 [==============================] - 334s 690ms/step - loss: 1.6587 - accuracy: 0.5858\n",
      "Epoch 12/50\n",
      "484/484 [==============================] - ETA: 0s - loss: 1.2775 - accuracy: 0.6822\n",
      "Epoch 12: saving model to checkpoints_next_word_prediction\\model_checkpoint.h5\n",
      "484/484 [==============================] - 319s 659ms/step - loss: 1.2775 - accuracy: 0.6822\n",
      "Epoch 13/50\n",
      "484/484 [==============================] - ETA: 0s - loss: 1.0349 - accuracy: 0.7409\n",
      "Epoch 13: saving model to checkpoints_next_word_prediction\\model_checkpoint.h5\n",
      "484/484 [==============================] - 320s 660ms/step - loss: 1.0349 - accuracy: 0.7409\n",
      "Epoch 14/50\n",
      "484/484 [==============================] - ETA: 0s - loss: 0.9044 - accuracy: 0.7724\n",
      "Epoch 14: saving model to checkpoints_next_word_prediction\\model_checkpoint.h5\n",
      "484/484 [==============================] - 321s 663ms/step - loss: 0.9044 - accuracy: 0.7724\n",
      "Epoch 15/50\n",
      "484/484 [==============================] - ETA: 0s - loss: 0.8226 - accuracy: 0.7927\n",
      "Epoch 15: saving model to checkpoints_next_word_prediction\\model_checkpoint.h5\n",
      "484/484 [==============================] - 324s 669ms/step - loss: 0.8226 - accuracy: 0.7927\n",
      "Epoch 16/50\n",
      "484/484 [==============================] - ETA: 0s - loss: 0.7558 - accuracy: 0.8119\n",
      "Epoch 16: saving model to checkpoints_next_word_prediction\\model_checkpoint.h5\n",
      "484/484 [==============================] - 320s 661ms/step - loss: 0.7558 - accuracy: 0.8119\n",
      "Epoch 17/50\n",
      "484/484 [==============================] - ETA: 0s - loss: 0.7377 - accuracy: 0.8124\n",
      "Epoch 17: saving model to checkpoints_next_word_prediction\\model_checkpoint.h5\n",
      "484/484 [==============================] - 319s 660ms/step - loss: 0.7377 - accuracy: 0.8124\n",
      "Epoch 18/50\n",
      "484/484 [==============================] - ETA: 0s - loss: 0.6937 - accuracy: 0.8229\n",
      "Epoch 18: saving model to checkpoints_next_word_prediction\\model_checkpoint.h5\n",
      "484/484 [==============================] - 318s 657ms/step - loss: 0.6937 - accuracy: 0.8229\n",
      "Epoch 19/50\n",
      "484/484 [==============================] - ETA: 0s - loss: 0.6669 - accuracy: 0.8293\n",
      "Epoch 19: saving model to checkpoints_next_word_prediction\\model_checkpoint.h5\n",
      "484/484 [==============================] - 319s 660ms/step - loss: 0.6669 - accuracy: 0.8293\n",
      "Epoch 20/50\n",
      "484/484 [==============================] - ETA: 0s - loss: 0.6578 - accuracy: 0.8293\n",
      "Epoch 20: saving model to checkpoints_next_word_prediction\\model_checkpoint.h5\n",
      "484/484 [==============================] - 319s 659ms/step - loss: 0.6578 - accuracy: 0.8293\n",
      "Epoch 21/50\n",
      "484/484 [==============================] - ETA: 0s - loss: 0.6453 - accuracy: 0.8320\n",
      "Epoch 21: saving model to checkpoints_next_word_prediction\\model_checkpoint.h5\n",
      "484/484 [==============================] - 319s 659ms/step - loss: 0.6453 - accuracy: 0.8320\n",
      "Epoch 22/50\n",
      "484/484 [==============================] - ETA: 0s - loss: 0.6357 - accuracy: 0.8337\n",
      "Epoch 22: saving model to checkpoints_next_word_prediction\\model_checkpoint.h5\n",
      "484/484 [==============================] - 318s 657ms/step - loss: 0.6357 - accuracy: 0.8337\n",
      "Epoch 23/50\n",
      "484/484 [==============================] - ETA: 0s - loss: 0.6500 - accuracy: 0.8278\n",
      "Epoch 23: saving model to checkpoints_next_word_prediction\\model_checkpoint.h5\n",
      "484/484 [==============================] - 319s 658ms/step - loss: 0.6500 - accuracy: 0.8278\n",
      "Epoch 24/50\n",
      "484/484 [==============================] - ETA: 0s - loss: 0.6220 - accuracy: 0.8345\n",
      "Epoch 24: saving model to checkpoints_next_word_prediction\\model_checkpoint.h5\n",
      "484/484 [==============================] - 319s 660ms/step - loss: 0.6220 - accuracy: 0.8345\n",
      "Epoch 25/50\n",
      "484/484 [==============================] - ETA: 0s - loss: 0.5998 - accuracy: 0.8384\n",
      "Epoch 25: saving model to checkpoints_next_word_prediction\\model_checkpoint.h5\n",
      "484/484 [==============================] - 321s 663ms/step - loss: 0.5998 - accuracy: 0.8384\n",
      "Epoch 26/50\n",
      "484/484 [==============================] - ETA: 0s - loss: 0.6004 - accuracy: 0.8391\n",
      "Epoch 26: saving model to checkpoints_next_word_prediction\\model_checkpoint.h5\n",
      "484/484 [==============================] - 320s 662ms/step - loss: 0.6004 - accuracy: 0.8391\n",
      "Epoch 27/50\n",
      "484/484 [==============================] - ETA: 0s - loss: 0.5708 - accuracy: 0.8428\n",
      "Epoch 27: saving model to checkpoints_next_word_prediction\\model_checkpoint.h5\n",
      "484/484 [==============================] - 319s 659ms/step - loss: 0.5708 - accuracy: 0.8428\n",
      "Epoch 28/50\n",
      "484/484 [==============================] - ETA: 0s - loss: 0.5787 - accuracy: 0.8402\n",
      "Epoch 28: saving model to checkpoints_next_word_prediction\\model_checkpoint.h5\n",
      "484/484 [==============================] - 324s 670ms/step - loss: 0.5787 - accuracy: 0.8402\n",
      "Epoch 29/50\n",
      "484/484 [==============================] - ETA: 0s - loss: 0.6004 - accuracy: 0.8327\n",
      "Epoch 29: saving model to checkpoints_next_word_prediction\\model_checkpoint.h5\n",
      "484/484 [==============================] - 321s 663ms/step - loss: 0.6004 - accuracy: 0.8327\n",
      "Epoch 30/50\n",
      "484/484 [==============================] - ETA: 0s - loss: 0.5916 - accuracy: 0.8360\n",
      "Epoch 30: saving model to checkpoints_next_word_prediction\\model_checkpoint.h5\n",
      "484/484 [==============================] - 322s 665ms/step - loss: 0.5916 - accuracy: 0.8360\n",
      "Epoch 31/50\n",
      "484/484 [==============================] - ETA: 0s - loss: 0.5610 - accuracy: 0.8425\n",
      "Epoch 31: saving model to checkpoints_next_word_prediction\\model_checkpoint.h5\n"
     ]
    },
    {
     "name": "stdout",
     "output_type": "stream",
     "text": [
      "484/484 [==============================] - 320s 660ms/step - loss: 0.5610 - accuracy: 0.8425\n",
      "Epoch 32/50\n",
      "484/484 [==============================] - ETA: 0s - loss: 0.5520 - accuracy: 0.8452\n",
      "Epoch 32: saving model to checkpoints_next_word_prediction\\model_checkpoint.h5\n",
      "484/484 [==============================] - 318s 658ms/step - loss: 0.5520 - accuracy: 0.8452\n",
      "Epoch 33/50\n",
      "484/484 [==============================] - ETA: 0s - loss: 0.5531 - accuracy: 0.8438\n",
      "Epoch 33: saving model to checkpoints_next_word_prediction\\model_checkpoint.h5\n",
      "484/484 [==============================] - 319s 658ms/step - loss: 0.5531 - accuracy: 0.8438\n",
      "Epoch 34/50\n",
      "484/484 [==============================] - ETA: 0s - loss: 0.5586 - accuracy: 0.8410\n",
      "Epoch 34: saving model to checkpoints_next_word_prediction\\model_checkpoint.h5\n",
      "484/484 [==============================] - 325s 672ms/step - loss: 0.5586 - accuracy: 0.8410\n",
      "Epoch 35/50\n",
      "484/484 [==============================] - ETA: 0s - loss: 0.5607 - accuracy: 0.8401\n",
      "Epoch 35: saving model to checkpoints_next_word_prediction\\model_checkpoint.h5\n",
      "484/484 [==============================] - 319s 658ms/step - loss: 0.5607 - accuracy: 0.8401\n",
      "Epoch 36/50\n",
      "484/484 [==============================] - ETA: 0s - loss: 0.5640 - accuracy: 0.8391\n",
      "Epoch 36: saving model to checkpoints_next_word_prediction\\model_checkpoint.h5\n",
      "484/484 [==============================] - 320s 661ms/step - loss: 0.5640 - accuracy: 0.8391\n",
      "Epoch 37/50\n",
      "484/484 [==============================] - ETA: 0s - loss: 0.5485 - accuracy: 0.8426\n",
      "Epoch 37: saving model to checkpoints_next_word_prediction\\model_checkpoint.h5\n",
      "484/484 [==============================] - 320s 661ms/step - loss: 0.5485 - accuracy: 0.8426\n",
      "Epoch 38/50\n",
      "484/484 [==============================] - ETA: 0s - loss: 0.5317 - accuracy: 0.8463\n",
      "Epoch 38: saving model to checkpoints_next_word_prediction\\model_checkpoint.h5\n",
      "484/484 [==============================] - 319s 660ms/step - loss: 0.5317 - accuracy: 0.8463\n",
      "Epoch 39/50\n",
      "484/484 [==============================] - ETA: 0s - loss: 0.5296 - accuracy: 0.8467\n",
      "Epoch 39: saving model to checkpoints_next_word_prediction\\model_checkpoint.h5\n",
      "484/484 [==============================] - 325s 671ms/step - loss: 0.5296 - accuracy: 0.8467\n",
      "Epoch 40/50\n",
      "484/484 [==============================] - ETA: 0s - loss: 0.5328 - accuracy: 0.8441\n",
      "Epoch 40: saving model to checkpoints_next_word_prediction\\model_checkpoint.h5\n",
      "484/484 [==============================] - 318s 658ms/step - loss: 0.5328 - accuracy: 0.8441\n",
      "Epoch 41/50\n",
      "484/484 [==============================] - ETA: 0s - loss: 0.5449 - accuracy: 0.8421\n",
      "Epoch 41: saving model to checkpoints_next_word_prediction\\model_checkpoint.h5\n",
      "484/484 [==============================] - 319s 659ms/step - loss: 0.5449 - accuracy: 0.8421\n",
      "Epoch 42/50\n",
      "484/484 [==============================] - ETA: 0s - loss: 0.5418 - accuracy: 0.8430\n",
      "Epoch 42: saving model to checkpoints_next_word_prediction\\model_checkpoint.h5\n",
      "484/484 [==============================] - 318s 658ms/step - loss: 0.5418 - accuracy: 0.8430\n",
      "Epoch 43/50\n",
      "484/484 [==============================] - ETA: 0s - loss: 0.5374 - accuracy: 0.8414\n",
      "Epoch 43: saving model to checkpoints_next_word_prediction\\model_checkpoint.h5\n",
      "484/484 [==============================] - 318s 658ms/step - loss: 0.5374 - accuracy: 0.8414\n",
      "Epoch 44/50\n",
      "484/484 [==============================] - ETA: 0s - loss: 0.5226 - accuracy: 0.8464\n",
      "Epoch 44: saving model to checkpoints_next_word_prediction\\model_checkpoint.h5\n",
      "484/484 [==============================] - 319s 659ms/step - loss: 0.5226 - accuracy: 0.8464\n",
      "Epoch 45/50\n",
      "484/484 [==============================] - ETA: 0s - loss: 0.5252 - accuracy: 0.8445\n",
      "Epoch 45: saving model to checkpoints_next_word_prediction\\model_checkpoint.h5\n",
      "484/484 [==============================] - 318s 658ms/step - loss: 0.5252 - accuracy: 0.8445\n",
      "Epoch 46/50\n",
      "484/484 [==============================] - ETA: 0s - loss: 0.5203 - accuracy: 0.8445\n",
      "Epoch 46: saving model to checkpoints_next_word_prediction\\model_checkpoint.h5\n",
      "484/484 [==============================] - 319s 659ms/step - loss: 0.5203 - accuracy: 0.8445\n",
      "Epoch 47/50\n",
      "484/484 [==============================] - ETA: 0s - loss: 0.5089 - accuracy: 0.8482\n",
      "Epoch 47: saving model to checkpoints_next_word_prediction\\model_checkpoint.h5\n",
      "484/484 [==============================] - 320s 661ms/step - loss: 0.5089 - accuracy: 0.8482\n",
      "Epoch 48/50\n",
      "484/484 [==============================] - ETA: 0s - loss: 0.5085 - accuracy: 0.8487\n",
      "Epoch 48: saving model to checkpoints_next_word_prediction\\model_checkpoint.h5\n",
      "484/484 [==============================] - 319s 659ms/step - loss: 0.5085 - accuracy: 0.8487\n",
      "Epoch 49/50\n",
      "484/484 [==============================] - ETA: 0s - loss: 0.5026 - accuracy: 0.8494\n",
      "Epoch 49: saving model to checkpoints_next_word_prediction\\model_checkpoint.h5\n",
      "484/484 [==============================] - 319s 658ms/step - loss: 0.5026 - accuracy: 0.8494\n",
      "Epoch 50/50\n",
      "484/484 [==============================] - ETA: 0s - loss: 0.5141 - accuracy: 0.8470\n",
      "Epoch 50: saving model to checkpoints_next_word_prediction\\model_checkpoint.h5\n",
      "484/484 [==============================] - 319s 658ms/step - loss: 0.5141 - accuracy: 0.8470\n"
     ]
    }
   ],
   "source": [
    "from tensorflow.keras.callbacks import ModelCheckpoint\n",
    "# Define the checkpoint directory and filename\n",
    "checkpoint_filepath = 'checkpoints_next_word_prediction/model_checkpoint.h5'\n",
    "\n",
    "# Create ModelCheckpoint callback\n",
    "checkpoint = ModelCheckpoint(filepath=checkpoint_filepath,\n",
    "                             save_weights_only=True,  # Save only weights\n",
    "                             monitor='val_loss',      # You can monitor another metric if preferred\n",
    "                             mode='min',              # Use 'min' for minimizing loss\n",
    "                             save_best_only=False,    # Save after every epoch\n",
    "                             verbose=1)\n",
    "\n",
    "\n",
    "# Train the model\n",
    "history = model.fit(features, labels, verbose=1, epochs=50, callbacks=[checkpoint])"
   ]
  },
  {
   "cell_type": "markdown",
   "id": "38dfc320",
   "metadata": {},
   "source": [
    "### To pass this assignment, your model should achieve a training accuracy of at least 80%"
   ]
  },
  {
   "cell_type": "code",
   "execution_count": 85,
   "id": "d251576d",
   "metadata": {},
   "outputs": [
    {
     "data": {
      "image/png": "[encoded data removed]",
      "text/plain": [
       "<Figure size 432x288 with 1 Axes>"
      ]
     },
     "metadata": {
      "needs_background": "light"
     },
     "output_type": "display_data"
    },
    {
     "data": {
      "image/png": "[encoded data removed]",
      "text/plain": [
       "<Figure size 432x288 with 1 Axes>"
      ]
     },
     "metadata": {
      "needs_background": "light"
     },
     "output_type": "display_data"
    }
   ],
   "source": [
    "# Take a look at the training curves of your model\n",
    "\n",
    "acc = history.history['accuracy']\n",
    "loss = history.history['loss']\n",
    "\n",
    "epochs = range(len(acc))\n",
    "\n",
    "plt.plot(epochs, acc, 'b', label='Training accuracy')\n",
    "plt.title('Training accuracy')\n",
    "\n",
    "plt.figure()\n",
    "\n",
    "plt.plot(epochs, loss, 'b', label='Training Loss')\n",
    "plt.title('Training loss')\n",
    "plt.legend()\n",
    "\n",
    "plt.show()"
   ]
  },
  {
   "cell_type": "code",
   "execution_count": 87,
   "id": "2f2b2038",
   "metadata": {},
   "outputs": [
    {
     "name": "stdout",
     "output_type": "stream",
     "text": [
      "History saved locally as 'history.pkl'. You can find it in your working directory.\n"
     ]
    }
   ],
   "source": [
    "def download_history():\n",
    "    import pickle\n",
    "\n",
    "    # Save the training history locally\n",
    "    with open('history.pkl', 'wb') as f:\n",
    "        pickle.dump(history.history, f)\n",
    "\n",
    "    print(\"History saved locally as 'history.pkl'. You can find it in your working directory.\")\n",
    "\n",
    "# Call the function to save the history\n",
    "download_history()\n"
   ]
  },
  {
   "cell_type": "markdown",
   "id": "faae0aa3",
   "metadata": {},
   "source": [
    "# See your model in action"
   ]
  },
  {
   "cell_type": "markdown",
   "id": "606640e8",
   "metadata": {},
   "source": [
    "After all your work it is finally time to see your model generating text.\n",
    "\n",
    "Run the cell below to generate the next 100 words of a seed text."
   ]
  },
  {
   "cell_type": "code",
   "execution_count": 88,
   "id": "f9245b8d",
   "metadata": {},
   "outputs": [
    {
     "name": "stdout",
     "output_type": "stream",
     "text": [
      "Help me Obi Wan Kenobi, you're my only hope my scythe and eyes her thee hid in wantonly dateless night days have seen his shade same doom and be seen afloat stand in the shore woe lies thee can well well befits thee in the spring of laws of his brow date date to her burn clearer his bough of spend ' strife afloat ghastly night her heart thereby fair imperfect shade appear new lies lies i be near you in my state or thee her mournful is my all my grief grief lies grief and befits her seal and meant thereby stand crown'd of thy sight to lie\n"
     ]
    }
   ],
   "source": [
    "seed_text = \"Help me Obi Wan Kenobi, you're my only hope\"\n",
    "next_words = 100\n",
    "  \n",
    "for _ in range(next_words):\n",
    "\t# Convert the text into sequences\n",
    "\ttoken_list = tokenizer.texts_to_sequences([seed_text])[0]\n",
    "\t# Pad the sequences\n",
    "\ttoken_list = pad_sequences([token_list], maxlen=max_sequence_len-1, padding='pre')\n",
    "\t# Get the probabilities of predicting a word\n",
    "\tpredicted = model.predict(token_list, verbose=0)\n",
    "\t# Choose the next word based on the maximum probability\n",
    "\tpredicted = np.argmax(predicted, axis=-1).item()\n",
    "\t# Get the actual word from the word index\n",
    "\toutput_word = tokenizer.index_word[predicted]\n",
    "\t# Append to the current text\n",
    "\tseed_text += \" \" + output_word\n",
    "\n",
    "print(seed_text)"
   ]
  },
  {
   "cell_type": "markdown",
   "id": "1eeb73ec",
   "metadata": {},
   "source": [
    "### Congratulations on finishing this week's assignment!"
   ]
  },
  {
   "cell_type": "markdown",
   "id": "295b4b97",
   "metadata": {},
   "source": [
    "You have successfully implemented a neural network capable of predicting the next word in a sequence of text!"
   ]
  }
 ],
 "metadata": {
  "kernelspec": {
   "display_name": "Python 3 (ipykernel)",
   "language": "python",
   "name": "python3"
  },
  "language_info": {
   "codemirror_mode": {
    "name": "ipython",
    "version": 3
   },
   "file_extension": ".py",
   "mimetype": "text/x-python",
   "name": "python",
   "nbconvert_exporter": "python",
   "pygments_lexer": "ipython3",
   "version": "3.9.12"
  }
 },
 "nbformat": 4,
 "nbformat_minor": 5
}
